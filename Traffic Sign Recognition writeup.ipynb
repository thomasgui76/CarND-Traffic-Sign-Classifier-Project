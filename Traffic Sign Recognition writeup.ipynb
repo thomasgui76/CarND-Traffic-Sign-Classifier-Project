{
 "cells": [
  {
   "cell_type": "markdown",
   "metadata": {},
   "source": [
    "# **Traffic Sign Recognition** \n",
    "\n",
    "## Writeup file"
   ]
  },
  {
   "cell_type": "markdown",
   "metadata": {},
   "source": [
    "---\n",
    "\n",
    "**Build a Traffic Sign Recognition Project**\n",
    "\n",
    "The goals / steps of this project are the following:\n",
    "* Load the data set (see below for links to the project data set)\n",
    "* Explore, summarize and visualize the data set\n",
    "* Design, train and test a model architecture\n",
    "* Use the model to make predictions on new images\n",
    "* Analyze the softmax probabilities of the new images\n",
    "* Summarize the results with a written report"
   ]
  },
  {
   "cell_type": "markdown",
   "metadata": {},
   "source": [
    "### Data Set Summary & Exploration\n",
    "\n",
    "#### 1. Provide a basic summary of the data set. In the code, the analysis should be done using python, numpy and/or pandas methods rather than hardcoding results manually."
   ]
  },
  {
   "cell_type": "markdown",
   "metadata": {},
   "source": [
    "X_train, y_train = train['features'], train['labels']          \n",
    "X_valid, y_valid = valid['features'], valid['labels']        \n",
    "X_test, y_test = test['features'], test['labels']\n",
    "\n",
    "n_train = len(y_train)\n",
    "\n",
    "n_validation = len(y_valid)\n",
    "\n",
    "n_test = len(y_test)\n",
    "\n",
    "image_shape = X_train[0].shape\n",
    "\n",
    "n_classes = len(set(y_train))\n",
    "\n",
    "I used python code to calculate summary statistics of the traffic\n",
    "signs data set:\n",
    "\n",
    "* The size of training set is 34799\n",
    "* The size of the validation set is 4410\n",
    "* The size of test set is 12630\n",
    "* The shape of a traffic sign image is (32,32,3)\n",
    "* The number of unique classes/labels in the data set is 43"
   ]
  },
  {
   "cell_type": "markdown",
   "metadata": {},
   "source": [
    "#### 2. Include an exploratory visualization of the dataset.\n",
    "\n",
    "Here is an exploratory visualization of the data set. It is a bar chart showing the classes/labels distribution of  the train data and test data\n",
    "\n",
    "![barchart](./examples/barchart.png)\n",
    "\n",
    "you can see 43 classes with big diffrence in sample number.                \n",
    "maximum sample number is 2010 in class 2 in train set           \n",
    "minimum sample number is 180 in class 0 in train set\n",
    "\n",
    "Random select 20 images, put class/label in left upper corner, plot the image as below:\n",
    "\n",
    "![train images](./examples/visualization.png)\n"
   ]
  },
  {
   "cell_type": "markdown",
   "metadata": {},
   "source": [
    "### Design and Test a Model Architecture\n",
    "\n",
    "#### 1. Describe how you preprocessed the image data. What techniques were chosen and why did you choose these techniques? Consider including images showing the output of each preprocessing technique. Pre-processing refers to techniques such as converting to grayscale, normalization, etc. (OPTIONAL: As described in the \"Stand Out Suggestions\" part of the rubric, if you generated additional data for training, describe why you decided to generate additional data, how you generated the data, and provide example images of the additional data. Then describe the characteristics of the augmented training set like number of images in the set, number of images for each class, etc.)\n",
    "\n",
    "As a first step, I decided to convert the images to grayscale and normalize. weaken color, bright distortion, and the pixes value normalized to (-1,1) will make the model more robust. \n",
    "\n",
    "Here is an example of a traffic sign image before and after grayscaling.\n",
    "\n",
    "![gray image](./examples/grayscale.png)\n",
    "\n",
    "for each class has diffrent sample number, someone has big num, while some other has small num. it is difficult to build classifier to learn all class accurately later.\n",
    "\n",
    "So I apply image augmentation method to generate more samples, to add sample number for small class in train set, finally all classes have same sample number 2010 in train set\n",
    "\n",
    "Here is an example of an original image and an augmented image:\n",
    "\n",
    "![augmentation](./examples/augmentation.png)\n",
    "\n",
    "The difference between the original data set and the augmented data set is the following:\n",
    "\n",
    "| original training set | augmented training set  |\n",
    "|:---------------------:|:-----------------------:| \n",
    "| The size is 34799     | The size is 86430       |\n",
    "| shape is (32,32,3)    | shape is (32,32,1)      |"
   ]
  },
  {
   "cell_type": "markdown",
   "metadata": {},
   "source": [
    "#### 2. Describe what your final model architecture looks like including model type, layers, layer sizes, connectivity, etc.) Consider including a diagram and/or table describing the final model.\n",
    "\n",
    "My final model consisted of the following layers:\n",
    "\n",
    "| Layer         \t\t|     Description\t        \t\t\t\t\t| \n",
    "|:---------------------:|:---------------------------------------------:| \n",
    "| Input         \t\t| 32x32x1 GRAY image   \t\t\t\t\t\t\t| \n",
    "| Conv1 5x5          \t| 1x1 stride, VALID padding, outputs 28x28x8 \t|\n",
    "| RELU\t\t\t\t\t| \t\t\t\t\t\t\t\t\t\t\t\t|\n",
    "| Max pooling\t      \t| 2x2 stride, outputs 14x14x8   \t\t\t\t|\n",
    "| Conv2 5x5\t            | 1X1 stride, VALID padding, outputs 10x10x32\t|\n",
    "| RELU\t\t\t\t\t|\t\t\t\t\t\t\t\t\t\t\t\t|\n",
    "| Max pooling\t      \t| 2x2 stride, outputs 5x5x32    \t\t\t\t|\n",
    "| Conv3 5x5     \t\t| X1 stride, VALID padding, outputs 1x1x400 \t|\n",
    "| RELU\t\t\t\t\t|\t\t\t\t\t\t\t\t\t\t\t\t|\n",
    "| Flatten\t\t\t\t| conv2_flat outputs 800 conv3_flat outputs 400\t|\n",
    "| concatenate\t\t\t| concatenate 2 flatten layer, output 1x1x1200\t|\n",
    "| Dropout\t\t\t\t| \t\t\t\t\t\t\t\t\t\t\t\t|\n",
    "| Fully connected 1\t\t| inputs 1200, outputs 200\t\t\t\t\t\t|\n",
    "| Dropout\t\t\t\t| \t\t\t\t\t\t\t\t\t\t\t\t|\n",
    "| Softmax\t\t\t\t| inputs 200, outputs 43\t\t\t\t\t\t|"
   ]
  },
  {
   "cell_type": "markdown",
   "metadata": {},
   "source": [
    "#### 3. Describe how you trained your model. The discussion can include the type of optimizer, the batch size, number of epochs and any hyperparameters such as learning rate.\n",
    "\n",
    "To train the model, I used fixed learning rate 0.001, AdamOptimizer, batch size 128, EPOCHS 30"
   ]
  },
  {
   "cell_type": "markdown",
   "metadata": {},
   "source": [
    "#### 4. Describe the approach taken for finding a solution and getting the validation set accuracy to be at least 0.93. Include in the discussion the results on the training, validation and test sets and where in the code these were calculated. Your approach may have been an iterative process, in which case, outline the steps you took to get to the final solution and why you chose those steps. Perhaps your solution involved an already well known implementation or architecture. In this case, discuss why you think the architecture is suitable for the current problem.\n",
    "\n",
    "I refer to Pierre Sermanet and Yann LeCun's paper and use multi scale convolution architecture.\n",
    "\n",
    "My final model results were:\n",
    "* training set accuracy of 99.3%\n",
    "* validation set accuracy of 97.5% \n",
    "* test set accuracy of 96.3%\n"
   ]
  },
  {
   "cell_type": "markdown",
   "metadata": {},
   "source": [
    "### Test a Model on New Images\n",
    "\n",
    "#### 1. Choose five German traffic signs found on the web and provide them in the report. For each image, discuss what quality or qualities might be difficult to classify.\n",
    "\n",
    "Here are ten German traffic signs that I found on the web:"
   ]
  },
  {
   "cell_type": "markdown",
   "metadata": {},
   "source": [
    "%%html\n",
    "<figure class=\"third\">\n",
    "    <img src=\"./data/test/36.jpg\" width=\"100\"/>\n",
    "    <img src=\"./data/test/0.jpg\" width=\"100\"/>\n",
    "    <img src=\"./data/test/34.jpg\" width=\"100\"/>\n",
    "    <img src=\"./data/test/14.jpg\" width=\"100\"/>\n",
    "    <img src=\"./data/test/13.jpg\" width=\"100\"/>\n",
    "</figure>"
   ]
  },
  {
   "cell_type": "markdown",
   "metadata": {},
   "source": [
    "The first 1 images might be difficult to classify. because it's black signs in train set, while it's white signs in download images.  "
   ]
  },
  {
   "cell_type": "markdown",
   "metadata": {},
   "source": [
    "#### 2. Discuss the model's predictions on these new traffic signs and compare the results to predicting on the test set. At a minimum, discuss what the predictions were, the accuracy on these new predictions, and compare the accuracy to the accuracy on the test set (OPTIONAL: Discuss the results in more detail as described in the \"Stand Out Suggestions\" part of the rubric).\n",
    "\n",
    "Here are the results of the prediction:\n",
    "\n",
    "| Image\t\t\t          |     Prediction\t        \t\t\t\t\t| \n",
    "|:-----------------------:|:-------------------------------------------:|\n",
    "| Go straight or right\t  | Go straight or right\t\t     \t\t\t|\n",
    "| 20Km\t\t\t\t\t  | Keep left\t\t\t\t\t\t\t\t\t|\n",
    "| Turn left ahead      \t  | Turn left ahead\t\t\t\t\t  \t\t\t|\n",
    "| Stop              \t  | Stop\t\t\t\t\t        \t\t\t|\n",
    "| Yield                   | Yield           \t\t\t \t\t\t\t|\n",
    "\n",
    "4 of 5 new image prediction is correct, accuracy is 80% less than test set."
   ]
  },
  {
   "cell_type": "markdown",
   "metadata": {},
   "source": [
    "#### 3. Describe how certain the model is when predicting on each of the five new images by looking at the softmax probabilities for each prediction. Provide the top 5 softmax probabilities for each image along with the sign type of each probability. (OPTIONAL: as described in the \"Stand Out Suggestions\" part of the rubric, visualizations can also be provided such as bar charts)\n",
    "\n",
    "The code for making predictions on my final model is located in the 11th cell of the Ipython notebook.\n",
    "\n",
    "For the first image, the model is absolutely sure that this is a Go straight or right (probability of 1.0), and the image only contain a Go straight or right sign. The top five soft max probabilities were\n",
    "\n",
    "| Probability         \t|     Prediction\t        \t\t\t\t\t| \n",
    "|:---------------------:|:---------------------------------------------:| \n",
    "| 1.0         \t\t\t| Go straight or right   \t\t\t\t\t\t| \n",
    "| 0.0     \t\t\t\t|      \t\t\t\t\t                 \t\t|\n",
    "| 0.0\t\t\t\t\t| \t\t\t\t\t        \t\t\t\t\t|\n",
    "| 0.0\t      \t\t\t| \t\t\t\t\t \t            \t\t\t|\n",
    "| 0.0\t\t\t\t    |        \t\t\t\t\t            \t\t|\n",
    "\n",
    "all new 5 images top5 probability visualization as the following\n",
    "\n",
    "![new image prediction](./examples/newimg_prediction.png)"
   ]
  }
 ],
 "metadata": {
  "kernelspec": {
   "display_name": "carnd-term1",
   "language": "python",
   "name": "myenv"
  },
  "language_info": {
   "codemirror_mode": {
    "name": "ipython",
    "version": 3
   },
   "file_extension": ".py",
   "mimetype": "text/x-python",
   "name": "python",
   "nbconvert_exporter": "python",
   "pygments_lexer": "ipython3",
   "version": "3.5.2"
  },
  "widgets": {
   "state": {},
   "version": "1.1.2"
  }
 },
 "nbformat": 4,
 "nbformat_minor": 2
}
